{
 "cells": [
  {
   "cell_type": "code",
   "execution_count": 1,
   "metadata": {},
   "outputs": [
    {
     "name": "stdout",
     "output_type": "stream",
     "text": [
      "Hello World\n"
     ]
    }
   ],
   "source": [
    "print(\"Hello World\")"
   ]
  },
  {
   "cell_type": "code",
   "execution_count": 2,
   "metadata": {},
   "outputs": [
    {
     "name": "stdout",
     "output_type": "stream",
     "text": [
      "**********\n"
     ]
    }
   ],
   "source": [
    "print(\"*\"*10)"
   ]
  },
  {
   "cell_type": "code",
   "execution_count": 8,
   "metadata": {},
   "outputs": [
    {
     "name": "stdout",
     "output_type": "stream",
     "text": [
      "********** **********\n"
     ]
    }
   ],
   "source": [
    "print(\"*\"*10,\"*\"*10)"
   ]
  },
  {
   "cell_type": "code",
   "execution_count": 9,
   "metadata": {},
   "outputs": [
    {
     "name": "stdout",
     "output_type": "stream",
     "text": [
      "Nhập: Tôi yêu Việt Nam\n",
      "Tôi yêu Việt Nam\n"
     ]
    }
   ],
   "source": [
    "str = input(\"Nhập: \")\n",
    "print(str)"
   ]
  },
  {
   "cell_type": "code",
   "execution_count": 10,
   "metadata": {},
   "outputs": [
    {
     "name": "stdout",
     "output_type": "stream",
     "text": [
      "Nhập: 2\n",
      "4\n"
     ]
    }
   ],
   "source": [
    "a = int(input(\"Nhập: \"))\n",
    "print(a + 2)"
   ]
  },
  {
   "cell_type": "code",
   "execution_count": 11,
   "metadata": {},
   "outputs": [
    {
     "name": "stdout",
     "output_type": "stream",
     "text": [
      "Nhập a = 2\n",
      "Nhập b = 3\n",
      "5\n"
     ]
    }
   ],
   "source": [
    "a = int(input(\"Nhập a = \"))\n",
    "b = int(input(\"Nhập b = \"))\n",
    "print(a + b)"
   ]
  },
  {
   "cell_type": "code",
   "execution_count": 12,
   "metadata": {},
   "outputs": [
    {
     "name": "stdout",
     "output_type": "stream",
     "text": [
      "False\n"
     ]
    }
   ],
   "source": [
    "print(2 > 3)"
   ]
  },
  {
   "cell_type": "code",
   "execution_count": 14,
   "metadata": {},
   "outputs": [
    {
     "name": "stdout",
     "output_type": "stream",
     "text": [
      "Nhập tuổi = 19\n",
      "Bạn đang tuổi teen\n"
     ]
    }
   ],
   "source": [
    "tuoi = int(input(\"Nhập tuổi = \"))\n",
    "if tuoi > 10 and tuoi < 20:\n",
    "    print(\"Bạn đang tuổi teen\")\n",
    "else:\n",
    "    print(\"Hazzzz\")"
   ]
  },
  {
   "cell_type": "code",
   "execution_count": 15,
   "metadata": {},
   "outputs": [
    {
     "name": "stdout",
     "output_type": "stream",
     "text": [
      "Nhập tuổi = 1\n",
      "Nhập tuổi = 5\n",
      "Nhập tuổi = 7\n",
      "Nhập tuổi = 4\n",
      "max =  7\n"
     ]
    }
   ],
   "source": [
    "a = int(input(\"Nhập tuổi = \"))\n",
    "b = int(input(\"Nhập tuổi = \"))\n",
    "c = int(input(\"Nhập tuổi = \"))\n",
    "d = int(input(\"Nhập tuổi = \"))\n",
    "\n",
    "max = a\n",
    "if (b > max):\n",
    "    max = b\n",
    "if (c > max):\n",
    "    max = c\n",
    "if (d > max):\n",
    "    max = d\n",
    "\n",
    "print(\"max = \", max)"
   ]
  },
  {
   "cell_type": "code",
   "execution_count": null,
   "metadata": {},
   "outputs": [],
   "source": []
  }
 ],
 "metadata": {
  "kernelspec": {
   "display_name": "Python 3",
   "language": "python",
   "name": "python3"
  },
  "language_info": {
   "codemirror_mode": {
    "name": "ipython",
    "version": 3
   },
   "file_extension": ".py",
   "mimetype": "text/x-python",
   "name": "python",
   "nbconvert_exporter": "python",
   "pygments_lexer": "ipython3",
   "version": "3.7.7"
  }
 },
 "nbformat": 4,
 "nbformat_minor": 4
}
